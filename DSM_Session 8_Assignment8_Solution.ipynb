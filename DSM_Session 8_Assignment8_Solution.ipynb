{
 "cells": [
  {
   "cell_type": "markdown",
   "metadata": {},
   "source": [
    "# Data Science Masters :Assignment 8"
   ]
  },
  {
   "cell_type": "raw",
   "metadata": {},
   "source": [
    "1)  How-to-count-distance-to-the-previous-zero \n",
    "    For each value, count the difference of the distance from the previous zero (or the start of the Series, whichever is           closer) and if there are no previous zeros,print the position\n",
    "    Consider a DataFrame df where there is an integer column {'X':[7, 2, 0, 3, 4, 2, 5, 0, 3, 4]}\n",
    "    The values should therefore be [1, 2, 0, 1, 2, 3, 4, 0, 1, 2]. Make this a new column 'Y'."
   ]
  },
  {
   "cell_type": "code",
   "execution_count": 49,
   "metadata": {},
   "outputs": [
    {
     "data": {
      "text/html": [
       "<div>\n",
       "<style scoped>\n",
       "    .dataframe tbody tr th:only-of-type {\n",
       "        vertical-align: middle;\n",
       "    }\n",
       "\n",
       "    .dataframe tbody tr th {\n",
       "        vertical-align: top;\n",
       "    }\n",
       "\n",
       "    .dataframe thead th {\n",
       "        text-align: right;\n",
       "    }\n",
       "</style>\n",
       "<table border=\"1\" class=\"dataframe\">\n",
       "  <thead>\n",
       "    <tr style=\"text-align: right;\">\n",
       "      <th></th>\n",
       "      <th>X</th>\n",
       "      <th>Y</th>\n",
       "    </tr>\n",
       "  </thead>\n",
       "  <tbody>\n",
       "    <tr>\n",
       "      <th>0</th>\n",
       "      <td>7</td>\n",
       "      <td>1</td>\n",
       "    </tr>\n",
       "    <tr>\n",
       "      <th>1</th>\n",
       "      <td>2</td>\n",
       "      <td>2</td>\n",
       "    </tr>\n",
       "    <tr>\n",
       "      <th>2</th>\n",
       "      <td>0</td>\n",
       "      <td>0</td>\n",
       "    </tr>\n",
       "    <tr>\n",
       "      <th>3</th>\n",
       "      <td>3</td>\n",
       "      <td>1</td>\n",
       "    </tr>\n",
       "    <tr>\n",
       "      <th>4</th>\n",
       "      <td>4</td>\n",
       "      <td>2</td>\n",
       "    </tr>\n",
       "    <tr>\n",
       "      <th>5</th>\n",
       "      <td>2</td>\n",
       "      <td>3</td>\n",
       "    </tr>\n",
       "    <tr>\n",
       "      <th>6</th>\n",
       "      <td>5</td>\n",
       "      <td>4</td>\n",
       "    </tr>\n",
       "    <tr>\n",
       "      <th>7</th>\n",
       "      <td>0</td>\n",
       "      <td>0</td>\n",
       "    </tr>\n",
       "    <tr>\n",
       "      <th>8</th>\n",
       "      <td>3</td>\n",
       "      <td>1</td>\n",
       "    </tr>\n",
       "    <tr>\n",
       "      <th>9</th>\n",
       "      <td>4</td>\n",
       "      <td>2</td>\n",
       "    </tr>\n",
       "  </tbody>\n",
       "</table>\n",
       "</div>"
      ],
      "text/plain": [
       "   X  Y\n",
       "0  7  1\n",
       "1  2  2\n",
       "2  0  0\n",
       "3  3  1\n",
       "4  4  2\n",
       "5  2  3\n",
       "6  5  4\n",
       "7  0  0\n",
       "8  3  1\n",
       "9  4  2"
      ]
     },
     "execution_count": 49,
     "metadata": {},
     "output_type": "execute_result"
    }
   ],
   "source": [
    "# Solution:\n",
    "import pandas as pd\n",
    "df = pd.DataFrame({'X':[7, 2, 0, 3, 4, 2, 5, 0, 3, 4]})  # Given Input Series...\n",
    "pos=1\n",
    "outList = []\n",
    "for num in df['X']:\n",
    "    if(num == 0):\n",
    "        outList.append(num)\n",
    "        pos=1\n",
    "    else:\n",
    "        outList.append(pos)\n",
    "        pos +=1\n",
    "df['Y'] = outList\n",
    "df"
   ]
  },
  {
   "cell_type": "raw",
   "metadata": {},
   "source": [
    "2) Create a DatetimeIndex that contains each business day of 2015 and use it to index a\n",
    "Series of random numbers."
   ]
  },
  {
   "cell_type": "code",
   "execution_count": 38,
   "metadata": {},
   "outputs": [
    {
     "data": {
      "text/plain": [
       "2015-01-01    694\n",
       "2015-01-02    569\n",
       "2015-01-05    639\n",
       "2015-01-06    202\n",
       "2015-01-07    845\n",
       "2015-01-08    773\n",
       "2015-01-09    717\n",
       "2015-01-12    369\n",
       "2015-01-13     19\n",
       "2015-01-14    733\n",
       "2015-01-15    287\n",
       "2015-01-16    764\n",
       "2015-01-19    814\n",
       "2015-01-20    609\n",
       "2015-01-21     80\n",
       "2015-01-22    482\n",
       "2015-01-23    610\n",
       "2015-01-26    406\n",
       "2015-01-27    324\n",
       "2015-01-28    715\n",
       "2015-01-29    496\n",
       "2015-01-30    561\n",
       "2015-02-02     97\n",
       "2015-02-03    184\n",
       "2015-02-04    610\n",
       "2015-02-05    859\n",
       "2015-02-06    687\n",
       "2015-02-09    547\n",
       "2015-02-10    855\n",
       "2015-02-11     82\n",
       "             ... \n",
       "2015-11-20     35\n",
       "2015-11-23    474\n",
       "2015-11-24    966\n",
       "2015-11-25    899\n",
       "2015-11-26    896\n",
       "2015-11-27    127\n",
       "2015-11-30    455\n",
       "2015-12-01    605\n",
       "2015-12-02    683\n",
       "2015-12-03    882\n",
       "2015-12-04    938\n",
       "2015-12-07    238\n",
       "2015-12-08    517\n",
       "2015-12-09    773\n",
       "2015-12-10    131\n",
       "2015-12-11    336\n",
       "2015-12-14    479\n",
       "2015-12-15    297\n",
       "2015-12-16    535\n",
       "2015-12-17    849\n",
       "2015-12-18    706\n",
       "2015-12-21    162\n",
       "2015-12-22    601\n",
       "2015-12-23     51\n",
       "2015-12-24    284\n",
       "2015-12-25    562\n",
       "2015-12-28    448\n",
       "2015-12-29    217\n",
       "2015-12-30    789\n",
       "2015-12-31    176\n",
       "Freq: B, Length: 261, dtype: int32"
      ]
     },
     "execution_count": 38,
     "metadata": {},
     "output_type": "execute_result"
    }
   ],
   "source": [
    "# Solution...\n",
    "import pandas as pd\n",
    "import numpy as np\n",
    "np.random.seed(0)   # Setting seed value to generate the same random series....\n",
    "businessDays = pd.bdate_range('2015-01-01', '2015-12-31')  # Business days from 01/2015 to 12/2015\n",
    "randomNumbers = np.random.randint(10,1000,len(businessDays)) # Generating Random number from 10 to 1000...\n",
    "s = pd.Series(randomNumbers,businessDays)\n",
    "s"
   ]
  },
  {
   "cell_type": "raw",
   "metadata": {},
   "source": [
    "3) Find the sum of the values in s for every Wednesday"
   ]
  },
  {
   "cell_type": "code",
   "execution_count": 39,
   "metadata": {},
   "outputs": [
    {
     "name": "stdout",
     "output_type": "stream",
     "text": [
      "Sum of the values in Series (s) for every Wednesday = 26249\n"
     ]
    }
   ],
   "source": [
    "# Solution...\n",
    "print(\"Sum of the values in Series (s) for every Wednesday =\",s[s.index.weekday == 2].sum())"
   ]
  },
  {
   "cell_type": "raw",
   "metadata": {},
   "source": [
    "4) Average For each calendar month"
   ]
  },
  {
   "cell_type": "code",
   "execution_count": 40,
   "metadata": {},
   "outputs": [
    {
     "name": "stdout",
     "output_type": "stream",
     "text": [
      "Avg for each month in Series (s)->\n"
     ]
    },
    {
     "data": {
      "text/plain": [
       "1     532.18\n",
       "2     597.40\n",
       "3     538.32\n",
       "4     458.45\n",
       "5     516.95\n",
       "6     539.82\n",
       "7     593.83\n",
       "8     479.33\n",
       "9     361.82\n",
       "10    496.45\n",
       "11    562.62\n",
       "12    489.52\n",
       "dtype: float64"
      ]
     },
     "execution_count": 40,
     "metadata": {},
     "output_type": "execute_result"
    }
   ],
   "source": [
    "# Solution...\n",
    "print(\"Avg for each month in Series (s)->\")\n",
    "s.groupby([lambda x: x.month]).mean().round(2)"
   ]
  },
  {
   "cell_type": "raw",
   "metadata": {},
   "source": [
    "5) For each group of four consecutive calendar months in s, find the date on which the\n",
    "highest value occurred."
   ]
  },
  {
   "cell_type": "code",
   "execution_count": 53,
   "metadata": {},
   "outputs": [
    {
     "name": "stdout",
     "output_type": "stream",
     "text": [
      "[('2015-02-27', 994), ('2015-07-16', 983), ('2015-11-02', 973)]\n"
     ]
    }
   ],
   "source": [
    "# Solution...\n",
    "def custom_groupby(index):  # function to split the given Series (s) into 3 groups G1,G2,G3\n",
    "    monthPosition = index.month\n",
    "    if (monthPosition < 5):\n",
    "        return \"G1\"\n",
    "    elif (monthPosition > 4 and monthPosition < 9):\n",
    "        return \"G2\"\n",
    "    elif (monthPosition > 8):\n",
    "        return \"G3\"\n",
    "grouped = s.groupby(custom_groupby)\n",
    "maxValueGrp = grouped.max()              # Maximum value in each group\n",
    "dateOfOccurance = grouped.idxmax().map(lambda t: t.strftime('%Y-%m-%d')) # Converting timestamp to date format...\n",
    "print(list(zip(dateOfOccurance,maxValueGrp)))  # Printing Max value with the date for each group..."
   ]
  }
 ],
 "metadata": {
  "kernelspec": {
   "display_name": "Python 3",
   "language": "python",
   "name": "python3"
  },
  "language_info": {
   "codemirror_mode": {
    "name": "ipython",
    "version": 3
   },
   "file_extension": ".py",
   "mimetype": "text/x-python",
   "name": "python",
   "nbconvert_exporter": "python",
   "pygments_lexer": "ipython3",
   "version": "3.6.5"
  }
 },
 "nbformat": 4,
 "nbformat_minor": 2
}
